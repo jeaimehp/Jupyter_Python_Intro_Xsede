{
 "cells": [
  {
   "cell_type": "markdown",
   "metadata": {},
   "source": [
    "# Functions\n",
    "\n",
    "Functions are blocks of code statements that can be defined to run as command.\n",
    "\n",
    "* Scope rules apply \n",
    "* Parameter Passing\n",
    "\n",
    "__Function Syntax:__\n",
    "```\n",
    "def func_name(parameters):\n",
    "    statement parameter\n",
    "    \n",
    "```\n",
    "\n",
    "## Function Example to Calculate the Average for a given list"
   ]
  },
  {
   "cell_type": "code",
   "execution_count": null,
   "metadata": {},
   "outputs": [],
   "source": [
    "import random as r\n",
    "\n",
    "def average(list):\n",
    "    print(\"Entering average function\")\n",
    "    list_size=len(list)\n",
    "    print(\"The average is:\",(sum(list)/list_size))\n",
    "    \n",
    "\n",
    "numbers_to_be_averaged = [3, 4, 6, 10, 40, 83, 75, 41, 13]\n",
    "\n",
    "average(numbers_to_be_averaged) # function average called while passing the first list\n",
    "\n",
    "\n",
    "second_group_to_be_averaged = [ r.randint(0,9000) for i in range(5000)]\n",
    "\n",
    "average(second_group_to_be_averaged) # function average called while passing the second list"
   ]
  },
  {
   "cell_type": "code",
   "execution_count": null,
   "metadata": {},
   "outputs": [],
   "source": []
  }
 ],
 "metadata": {
  "kernelspec": {
   "display_name": "Python 3",
   "language": "python",
   "name": "python3"
  },
  "language_info": {
   "codemirror_mode": {
    "name": "ipython",
    "version": 3
   },
   "file_extension": ".py",
   "mimetype": "text/x-python",
   "name": "python",
   "nbconvert_exporter": "python",
   "pygments_lexer": "ipython3",
   "version": "3.7.1"
  }
 },
 "nbformat": 4,
 "nbformat_minor": 2
}
