{
 "cells": [
  {
   "cell_type": "markdown",
   "metadata": {},
   "source": [
    "# Loops: `for` and `while`\n",
    "\n",
    "Many programs require the capability to cycle through or to complete a certain task multiple times until a certain condition is met. That is purpose of loops.\n",
    "\n",
    "__`for` Loop Syntax:__\n",
    "```\n",
    "for x in range:\n",
    "    statement \n",
    "```\n",
    "\n",
    "__`while` Loop Syntax:__\n",
    "```\n",
    "while (condition is not true):\n",
    "    statement_2\n",
    "```\n",
    "\n",
    "## `for` Example 1:\n",
    "\n",
    "For performs the statement in \"scope\" of it for each element of a range given.\n",
    "\n",
    "```\n",
    "tuple_var = (10,20,30,40,50,60,70,80)\n",
    "for x in tuple_var:\n",
    "    print(x*3)\n",
    "```\n",
    "\n",
    "## `for` Example 2:\n",
    "You could also create a range on the fly using the command `range(start,1+end)`\n",
    "\n",
    "```\n",
    "for number in range(0,5):\n",
    "    print(number)\n",
    "```\n",
    "---\n",
    "## `while` Example 1:\n",
    "`while` has the unique ability to run until a condition becomes false. \\[__Note:__ this also means if the condition never comes true, an \"_infinate loop_\" can be formed.\\]\n",
    "```\n",
    "index = 1\n",
    "print(\"Before loop index =\", index)\n",
    "while (index <= 10):\n",
    "    print(\"In loop index =\", index)\n",
    "    # The \"+= 1\" is a method to increment \"index\" inorder to make the condition true after a number of loops\n",
    "    index += 1 \n",
    "```\n",
    "\n",
    "## `while` and _Scope_ Example 2:\n",
    "\n",
    "### Question:\n",
    "Looking at the code below, what do you think the value of \"`index`\" will be when the `while` loop is done?\n",
    "\n",
    "```\n",
    "index = 1\n",
    "print(\"Before loop index =\", index)\n",
    "while (index <= 10):\n",
    "    print(\"In loop index =\", index)\n",
    "    # The \"+= 1\" is a method to increment \"index\" inorder to make the condition true after a number of loops\n",
    "    index += 1 \n",
    "print(\"After loop index =\", index) \n",
    "```\n",
    "\n"
   ]
  },
  {
   "cell_type": "code",
   "execution_count": null,
   "metadata": {},
   "outputs": [],
   "source": []
  }
 ],
 "metadata": {
  "kernelspec": {
   "display_name": "Python 3",
   "language": "python",
   "name": "python3"
  },
  "language_info": {
   "codemirror_mode": {
    "name": "ipython",
    "version": 3
   },
   "file_extension": ".py",
   "mimetype": "text/x-python",
   "name": "python",
   "nbconvert_exporter": "python",
   "pygments_lexer": "ipython3",
   "version": "3.7.1"
  }
 },
 "nbformat": 4,
 "nbformat_minor": 2
}
