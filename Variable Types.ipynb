{
 "cells": [
  {
   "cell_type": "markdown",
   "metadata": {},
   "source": [
    "# Naming Variables\n",
    "\n",
    "As in life, variables can get confusing if you aren't careful. It is a good practice to give variables names that have meaning in terms of the program.\n",
    "\n",
    "#### Bad Example:\n",
    "\n",
    "`a = 9.8`\n",
    "\n",
    "#### Good Example:\n",
    "\n",
    "`accl_gravity = 9.8`\n",
    "\n",
    "#### Overkill\n",
    "\n",
    "`acceleration_due_to_gravity_in_meters_per_second = 9.8`"
   ]
  },
  {
   "cell_type": "code",
   "execution_count": 7,
   "metadata": {},
   "outputs": [],
   "source": [
    "a = 9.8\n",
    "accl_gravity = 9.8\n",
    "acceleration_due_to_gravity_in_meters_per_second = 9.8 # This works but much higher chance of mistype"
   ]
  },
  {
   "cell_type": "code",
   "execution_count": 8,
   "metadata": {},
   "outputs": [
    {
     "name": "stdout",
     "output_type": "stream",
     "text": [
      "9.8 = 9.8 = 9.8\n"
     ]
    }
   ],
   "source": [
    "print(a,\"=\",accl_gravity,\"=\", acceleration_due_to_gravity_in_meters_per_second)"
   ]
  },
  {
   "cell_type": "markdown",
   "metadata": {},
   "source": [
    "---\n",
    "# Variable Types\n",
    "\n",
    "There are several types of variables built into Python. the most common are integers (int), floats, complex, booleans (bool), strings (str), and tuples. Each accepts certain amounts of data by default. We will talk more on that later.\n",
    "\n",
    "\n",
    "* Integers, Floats, and Complex numbers all deal with various numbers\n",
    "* Booleans can only either be True or False and are commonly used in conditionals\n",
    "* Strings are used to work with text based information\n",
    "* Tuples are an \"immutable\" or a set of data that can not be changed much like a vector in mathematics\n",
    "\n",
    "## Declare and print the following examples:\n",
    "\n",
    "`integer_number = 5`<br/>\n",
    "`float_number = 5.3`<br/>\n",
    "`complex_number = 5j`<br/>\n",
    "`integer_number = 5`<br/>\n",
    "`string_number = \"Five\"`<br/>\n",
    "`tuple_number = (\"Three\",4,5j)`<br/>\n"
   ]
  },
  {
   "cell_type": "code",
   "execution_count": null,
   "metadata": {},
   "outputs": [],
   "source": [
    "integer_number = 5\n",
    "float_number = 5.3\n",
    "complex_number = 5j\n",
    "integer_number = 5\n",
    "string_number = \"Five\"\n",
    "tuple_number = (\"Three\",4,5j)"
   ]
  },
  {
   "cell_type": "markdown",
   "metadata": {},
   "source": [
    "## Now try the following combinations\n",
    "\\[__Note:__ You will see some errors, we will discuss them\\]\n",
    "\n",
    "`integer_number * float_number`<br/>\n",
    "`complex_number * float_number`<br/>\n",
    "`integer_number * string_number`<br/>\n",
    "`float_number * string_number`<br/>\n",
    "`complex_number * string_number`<br/>\n",
    "`string_number + string_number`__<-- This is called a string \"concatenation\"__ <br/>\n",
    "`tuple_number + integer_number`<br/>\n"
   ]
  },
  {
   "cell_type": "code",
   "execution_count": null,
   "metadata": {},
   "outputs": [],
   "source": []
  },
  {
   "cell_type": "markdown",
   "metadata": {},
   "source": [
    "## Variable Type Converstion\n",
    "\n",
    "There may arise times in which you do want to \"concatenate\" a float to a string, or use a float as an integer. In those cases you can use the type function to make the converstion. \\[__Note:__ A function is a group of code that is used with a single command\\]\n",
    "\n",
    "### Sample Conversion Functions:\n",
    "* `int()`<br/>\n",
    "* `float()`<br/>\n",
    "* `str()`<br/>\n",
    "\n",
    "\n",
    "## Example:\n",
    "\n",
    "We know `complex_number + string_number` will not concatenante because `complex_number` neither a string nor an integer. But now we know we can convert `complex_number` to output in this case, as a string but using `str(complex_number)`.   "
   ]
  },
  {
   "cell_type": "code",
   "execution_count": null,
   "metadata": {},
   "outputs": [],
   "source": [
    "str(complex_number) + string_number"
   ]
  },
  {
   "cell_type": "markdown",
   "metadata": {},
   "source": [
    "# What if I don't know what type of variable I am using?\n",
    "\n",
    "The `type(variablename)` function can be used to find out. \n",
    "\n",
    "## Example:\n",
    "\n",
    "Run the code in the below cell to see of what type of variable is `has_car`. \\[__Reminder:__ If you have a problem running the cell, make sure it is the correct cell type in the toolbar.\\]  "
   ]
  },
  {
   "cell_type": "raw",
   "metadata": {},
   "source": [
    "has_car=False #Sets the default car status\n",
    "print(\"The has_car default status is\",has_car,\"and it the variable type\",type(has_car))"
   ]
  },
  {
   "cell_type": "markdown",
   "metadata": {},
   "source": [
    "## Example 2:\n",
    "\n",
    "Now let's have a little fun with the `float_number` variable. Guess what you think the output will be then run the cell."
   ]
  },
  {
   "cell_type": "raw",
   "metadata": {},
   "source": [
    "print(float_number*3)\n",
    "print(str(float_number)*3)\n",
    "print(int(float_number)*3, \"<--- int(float_number) truncates (no rounding) 5.3 to 5 first\" ) "
   ]
  }
 ],
 "metadata": {
  "kernelspec": {
   "display_name": "Python 3",
   "language": "python",
   "name": "python3"
  },
  "language_info": {
   "codemirror_mode": {
    "name": "ipython",
    "version": 3
   },
   "file_extension": ".py",
   "mimetype": "text/x-python",
   "name": "python",
   "nbconvert_exporter": "python",
   "pygments_lexer": "ipython3",
   "version": "3.7.1"
  }
 },
 "nbformat": 4,
 "nbformat_minor": 2
}
