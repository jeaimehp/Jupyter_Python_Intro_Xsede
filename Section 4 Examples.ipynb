{
 "cells": [
  {
   "cell_type": "markdown",
   "metadata": {},
   "source": [
    "# Nested Functions\n",
    "\n",
    "* Functions can be nested but be very careful with your parenthesis.\n",
    "* The needed parts from modules can be imported instead of the whole thing at times.\n",
    "  * __Syntax:__`from module_name import attribute` you could also replace `attribute` with `*` but be very cautious as it can overwrite other attributes that may have the same name. \n",
    "\n",
    "The nested list does the following:\n",
    "1. `\"5\"` makes a string with the value 5\n",
    "2. `int(\"5\")` converts the string to an integer\n",
    "3. `pow(int(\"5\"),6)` takes $5^6$\n",
    "4. `sqrt(pow(int(\"5\"),6))`takes the $\\sqrt{5^6}$\n",
    "5. `str(sqrt(pow(int(\"5\"),6)))` turns the value of $\\sqrt{5^6}$ back to a string\n",
    "6. `print(\"Five is now \"+str(sqrt(pow(int(\"5\"),6))))` concatenates the string from above to the text and prints the output.\n"
   ]
  },
  {
   "cell_type": "code",
   "execution_count": null,
   "metadata": {},
   "outputs": [],
   "source": [
    "from math import sqrt,pow \n",
    "print(\"Five is now \"+str(sqrt(pow(int(\"5\"),6))))"
   ]
  },
  {
   "cell_type": "markdown",
   "metadata": {},
   "source": [
    "# Heads or Tails Example Comparision using Lists\n",
    "\n",
    "Dictonaries and Lists are objects similar to tuples but they are mutable (changeable). In short you can add, change, split, or delete members within a list or dictionary using their built in methods. \n",
    "\n",
    "\\[__Note:__ A list can be thought of much like a spreadsheet where in a dictionary can be though of more like a database\\]\n",
    "\n",
    "__List Syntax__\n",
    "\n",
    "```\n",
    "listname = [ \"string\", integer, float, object, other_list]\n",
    "```\n",
    "\n",
    "__Dictionary Syntax__\n",
    "\n",
    "```\n",
    "dictionaryname = { \n",
    "    \"string\": integer, \n",
    "    float: \"string\", \n",
    "    \"string2\": integer2,\n",
    "    float2: \"string2\",\n",
    "    key_element_1: value1,\n",
    "    key_element_2: value2\n",
    "}\n",
    "```\n",
    "\n",
    "## Old Way"
   ]
  },
  {
   "cell_type": "code",
   "execution_count": null,
   "metadata": {},
   "outputs": [],
   "source": [
    "import random\n",
    "heads = 0\n",
    "tails = 0\n",
    "for x in range(10000):    \n",
    "    number = (random.randint(1,500)%2)\n",
    "    if (number == 0):\n",
    "        tails += 1\n",
    "    if (number == 1):\n",
    "        heads += 1\n",
    "print (\"There were\",heads,\"Heads\")\n",
    "print (\"There were\",tails,\"Tails\")\n",
    "\n"
   ]
  },
  {
   "cell_type": "markdown",
   "metadata": {},
   "source": [
    "## Improved way with lists"
   ]
  },
  {
   "cell_type": "code",
   "execution_count": null,
   "metadata": {},
   "outputs": [],
   "source": [
    "import random\n",
    "flips = []            # Initializes the List named flips with no objects\n",
    "for x in range(10000):\n",
    "    flips.append(random.randint(1,500)%2) # The .append method adds items to a list\n",
    "heads=flips.count(1) # The .count method of a list counts the number of member that meet a sear criteria\n",
    "tails=flips.count(0)\n",
    "print(heads)\n",
    "print(tails)"
   ]
  },
  {
   "cell_type": "markdown",
   "metadata": {},
   "source": [
    "---\n",
    "# Lets make a graph of our \"Head or Tails\" results\n",
    "\n",
    "The modules `matplotlib` and `matplot.pylot` are commonly used along with Jupyter Notebooks to display this and many other more complex types of graphs. Notice the new way `matplot.pylot` was imported as `plt`. The use of the alias `plt` becomes a great shorthand way to call the modules. You will see this more as we go on. "
   ]
  },
  {
   "cell_type": "code",
   "execution_count": null,
   "metadata": {},
   "outputs": [],
   "source": [
    "import matplotlib\n",
    "import matplotlib.pyplot as plt\n",
    "plt.bar('Heads',heads)\n",
    "plt.bar('Tails',tails)\n",
    "plt.title('Head verses Tails')\n",
    "plt.xlabel('Heads or Tails')\n",
    "plt.ylabel('Number of flips')\n",
    "plt.axis(['Heads', 'Tails', 0, 6000])\n",
    "plt.grid(True)\n",
    "plt.text('Tails',5900, \"  Heads= \"+str(heads))\n",
    "plt.text('Tails',5500, \"  Tails= \"+str(tails))\n",
    "\n",
    "plt.show()"
   ]
  },
  {
   "cell_type": "markdown",
   "metadata": {},
   "source": [
    "---\n",
    "# Dictionary Example"
   ]
  },
  {
   "cell_type": "code",
   "execution_count": null,
   "metadata": {},
   "outputs": [],
   "source": [
    "weather_readings = { \n",
    "    \"Temperature (C)\": 24,\n",
    "    \"Humidity\": 80,\n",
    "    \"Cloud Cover\": 20,\n",
    "    \"Cedar Pollen\": \"Bring Oxygen Mask level\"\n",
    "}\n",
    "print(weather_readings)\n",
    "#if \"Cloud Cover\" in weather_readings:\n",
    "#    print (\"Yes the cloud cover is avaialable\")\n",
    "#dir(weather_readings)\n",
    "#print(weather_readings.get(\"Cedar Pollen\"))\n",
    "#print(weather_readings.get(\"Temperature (C)\"))\n",
    "#weather_readings[\"Cedar Pollen\"] = \"Livable\"\n",
    "#print(weather_readings.get(\"Cedar Pollen\"))"
   ]
  },
  {
   "cell_type": "markdown",
   "metadata": {},
   "source": [
    "---\n",
    "# Input from users\n",
    "Although Jupyter Notebooks allow users to directly interact with your code, there are times you many want to have an interactive method to entring information. To do that you can use the `input()` function.\n",
    "\n",
    "__Syntax for the `input()` function__\n",
    "\n",
    "```\n",
    "variable_name = input(\"Output String\")\n",
    "```\n",
    "\n",
    "### `input` Example To Determine if a number is Even or Odd"
   ]
  },
  {
   "cell_type": "code",
   "execution_count": null,
   "metadata": {},
   "outputs": [],
   "source": [
    "check_input = \" \" # Declares and empty string\n",
    "while (check_input != \"done\"): # Loops until \"done\" is the entry\n",
    "    check_input = input(\"Enter a number: \") # The actual input function\n",
    "    if (int(check_input)%2 == 0):\n",
    "        print(\"The number was even\")\n",
    "    elif (int(check_input)%2 == 1):\n",
    "        print (\"The number was odd\")"
   ]
  },
  {
   "cell_type": "markdown",
   "metadata": {},
   "source": [
    "### \\[__Note:__ What happened when you tried to add anything other than an integer? Not good things I expect. Take a look below for a solution! \\]\n",
    "\n",
    "\n",
    "# Try and Except:\n",
    "\n",
    "When accepting input from users, or data sets, a method of validation is necessary. The `try` and `except` method below ensures error created by the user (1) does not stop the program from running and (2) Provides information to correct the behavior of the user.\n",
    "\n",
    "### `input` Example with `try` and `execpt` implementation\n"
   ]
  },
  {
   "cell_type": "code",
   "execution_count": null,
   "metadata": {},
   "outputs": [],
   "source": [
    "check_input = \" \"\n",
    "while (check_input != \"done\"):\n",
    "    check_input = input(\"Enter a number: \")\n",
    "    try:                                      # If any of the string to integer conversions break, go to except\n",
    "        if (check_input == \"done\"):\n",
    "            print(\"OK, goodbye\")\n",
    "            break\n",
    "        elif (int(check_input)%2 == 0):\n",
    "            print(\"The number was even\")\n",
    "        elif (int(check_input)%2 == 1):\n",
    "            print (\"The number was odd\")\n",
    "    except:                                    # Provides helpful text to correct the user behavior\n",
    "        print (\"Does not compute. Need Integer or type \\\"done\\\" to exit!\")\n",
    "    \n"
   ]
  },
  {
   "cell_type": "code",
   "execution_count": null,
   "metadata": {},
   "outputs": [],
   "source": []
  }
 ],
 "metadata": {
  "kernelspec": {
   "display_name": "Python 3",
   "language": "python",
   "name": "python3"
  },
  "language_info": {
   "codemirror_mode": {
    "name": "ipython",
    "version": 3
   },
   "file_extension": ".py",
   "mimetype": "text/x-python",
   "name": "python",
   "nbconvert_exporter": "python",
   "pygments_lexer": "ipython3",
   "version": "3.7.1"
  }
 },
 "nbformat": 4,
 "nbformat_minor": 2
}
