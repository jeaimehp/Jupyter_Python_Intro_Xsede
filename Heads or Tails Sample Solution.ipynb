{
 "cells": [
  {
   "cell_type": "code",
   "execution_count": 1,
   "metadata": {},
   "outputs": [
    {
     "name": "stdout",
     "output_type": "stream",
     "text": [
      "There were 4996 Heads\n",
      "There were 5004 Tails\n"
     ]
    }
   ],
   "source": [
    "import random\n",
    "heads = 0\n",
    "tails = 0\n",
    "for x in range(10000):    #Change the last number to adjust the flips\n",
    "    number = (random.randint(1,500)%2)\n",
    "    if (number == 0):       #Increment the variable tails by 1 if numbe%2 = 0\n",
    "        tails += 1\n",
    "    if (number == 1):       #Increment the variable heads by 1 if numbe%2 = 0\n",
    "        heads += 1\n",
    "print (\"There were\",heads,\"Heads\")\n",
    "print (\"There were\",tails,\"Tails\")"
   ]
  },
  {
   "cell_type": "code",
   "execution_count": null,
   "metadata": {},
   "outputs": [],
   "source": []
  }
 ],
 "metadata": {
  "kernelspec": {
   "display_name": "Python 3",
   "language": "python",
   "name": "python3"
  },
  "language_info": {
   "codemirror_mode": {
    "name": "ipython",
    "version": 3
   },
   "file_extension": ".py",
   "mimetype": "text/x-python",
   "name": "python",
   "nbconvert_exporter": "python",
   "pygments_lexer": "ipython3",
   "version": "3.7.1"
  }
 },
 "nbformat": 4,
 "nbformat_minor": 2
}
